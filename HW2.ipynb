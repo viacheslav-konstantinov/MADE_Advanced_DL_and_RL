{
  "nbformat": 4,
  "nbformat_minor": 0,
  "metadata": {
    "colab": {
      "name": "HW2.ipynb",
      "provenance": [],
      "collapsed_sections": []
    },
    "kernelspec": {
      "name": "python3",
      "display_name": "Python 3"
    }
  },
  "cells": [
    {
      "cell_type": "markdown",
      "metadata": {
        "id": "CyiqDGVu1k53"
      },
      "source": [
        "##**Advanced DL and RL: Домашнее задание 2**"
      ]
    },
    {
      "cell_type": "code",
      "metadata": {
        "id": "4vc04vyymoVZ",
        "colab": {
          "base_uri": "https://localhost:8080/"
        },
        "outputId": "f28230c7-a0e7-4308-efcb-3aed7b1bfb24"
      },
      "source": [
        "import gym\n",
        "\n",
        "import time\n",
        "\n",
        "import matplotlib as mpl\n",
        "import matplotlib.pyplot as plt\n",
        "import seaborn as sns\n",
        "import json\n",
        "import math\n",
        "import random\n",
        "import numpy as np\n",
        "import scipy as sp\n",
        "import scipy.stats as st\n",
        "import scipy.integrate as integrate\n",
        "from scipy.stats import multivariate_normal\n",
        "from sklearn import linear_model\n",
        "from sklearn.utils.testing import ignore_warnings\n",
        "from sklearn.exceptions import ConvergenceWarning\n",
        "import statsmodels.api as sm\n",
        "from matplotlib.colors import LogNorm\n",
        "import pickle\n",
        "\n",
        "from joblib import Parallel, delayed\n",
        "import multiprocessing\n",
        "from collections import namedtuple\n",
        "from itertools import count\n",
        "\n",
        "import cProfile\n",
        "from datetime import datetime\n",
        "\n",
        "import torch\n",
        "import torch.nn as nn\n",
        "import torch.optim as optim\n",
        "import torch.nn.functional as F\n",
        "import torchvision.transforms as T\n",
        "from torch.autograd import Variable\n",
        "\n",
        "sns.set_style(\"whitegrid\")\n",
        "sns.set_palette(\"colorblind\")\n",
        "palette = sns.color_palette()\n",
        "figsize = (15,8)\n",
        "legend_fontsize = 16\n",
        "\n",
        "from IPython.display import display, clear_output\n",
        "\n",
        "# from matplotlib import rc\n",
        "# rc('font',**{'family':'sans-serif'})\n",
        "# rc('text', usetex=True)\n",
        "# rc('text.latex',preamble=r'\\usepackage[utf8]{inputenc}')\n",
        "# rc('text.latex',preamble=r'\\usepackage[russian]{babel}')\n",
        "# rc('figure', **{'dpi': 300})"
      ],
      "execution_count": 2,
      "outputs": [
        {
          "output_type": "stream",
          "text": [
            "/usr/local/lib/python3.6/dist-packages/sklearn/utils/deprecation.py:144: FutureWarning: The sklearn.utils.testing module is  deprecated in version 0.22 and will be removed in version 0.24. The corresponding classes / functions should instead be imported from sklearn.utils. Anything that cannot be imported from sklearn.utils is now part of the private API.\n",
            "  warnings.warn(message, FutureWarning)\n",
            "/usr/local/lib/python3.6/dist-packages/statsmodels/tools/_testing.py:19: FutureWarning: pandas.util.testing is deprecated. Use the functions in the public API at pandas.testing instead.\n",
            "  import pandas.util.testing as tm\n"
          ],
          "name": "stderr"
        }
      ]
    },
    {
      "cell_type": "markdown",
      "metadata": {
        "id": "lJmLjYpI2AEp"
      },
      "source": [
        "Второе домашнее задание опять посвящено игре; его базовая часть, надеюсь, не слишком\n",
        "большая, но я добавил опциональную часть, которая, думаю, должна быть достаточно\n",
        "интересной для любого слушателя. Как обычно, ​ в качестве решения ожидается ссылка\n",
        "на jupyter-ноутбук на вашем github (или публичный, или с доступом для snikolenko);\n",
        "ссылку обязательно нужно прислать в виде сданного домашнего задания на\n",
        "портале Академии​ . Любые комментарии, новые идеи и рассуждения на тему, как всегда,\n",
        "категорически приветствуются."
      ]
    },
    {
      "cell_type": "markdown",
      "metadata": {
        "id": "fEe7Flv42DTa"
      },
      "source": [
        "##Часть первая: крестики-нолики при помощи Q-обучения\n",
        "\n",
        "В коде, прилагающемся к последней лекции про обучение с подкреплением, реализован\n",
        "Environment для крестиков-ноликов, в котором можно при инициализации указывать\n",
        "разные размеры доски и условия победы, а также функции для рисования, в том числе с\n",
        "указанием оценки различных действий. С этим окружением все задания и связаны."
      ]
    },
    {
      "cell_type": "markdown",
      "metadata": {
        "id": "dCeJLNO52MeU"
      },
      "source": [
        "1. Реализуйте обычное (табличное) Q-обучение. Обучите стратегии крестиков и\n",
        "ноликов для доски 3х3."
      ]
    },
    {
      "cell_type": "code",
      "metadata": {
        "id": "hCCHTeks10pu"
      },
      "source": [
        "N_ROWS, N_COLS, N_WIN = 3, 3, 3"
      ],
      "execution_count": 3,
      "outputs": []
    },
    {
      "cell_type": "code",
      "metadata": {
        "id": "in7w5ytl2Nlx"
      },
      "source": [
        "class TicTacToe(gym.Env):\n",
        "    def __init__(self, n_rows=N_ROWS, n_cols=N_COLS, n_win=N_WIN):\n",
        "        self.n_rows = n_rows\n",
        "        self.n_cols = n_cols\n",
        "        self.n_win = n_win\n",
        "\n",
        "        self.board = np.zeros((self.n_rows, self.n_cols), dtype=int)\n",
        "        self.gameOver = False\n",
        "        self.boardHash = None\n",
        "        # ход первого игрока\n",
        "        self.curTurn = 1\n",
        "        self.emptySpaces = None\n",
        "        \n",
        "        self.reset()\n",
        "\n",
        "    def getEmptySpaces(self):\n",
        "        if self.emptySpaces is None:\n",
        "            res = np.where(self.board == 0)\n",
        "            self.emptySpaces = np.array([ (i, j) for i,j in zip(res[0], res[1]) ])\n",
        "        return self.emptySpaces\n",
        "\n",
        "    def makeMove(self, player, i, j):\n",
        "        self.board[i, j] = player\n",
        "        self.emptySpaces = None\n",
        "        self.boardHash = None\n",
        "\n",
        "    def getHash(self):\n",
        "        if self.boardHash is None:\n",
        "            self.boardHash = ''.join(['%s' % (x+1) for x in self.board.reshape(self.n_rows * self.n_cols)])\n",
        "        return self.boardHash\n",
        "\n",
        "    def isTerminal(self):\n",
        "        # проверим, не закончилась ли игра\n",
        "        cur_marks, cur_p = np.where(self.board == self.curTurn), self.curTurn\n",
        "        for i,j in zip(cur_marks[0], cur_marks[1]):\n",
        "#             print((i,j))\n",
        "            win = False\n",
        "            if i <= self.n_rows - self.n_win:\n",
        "                if np.all(self.board[i:i+self.n_win, j] == cur_p):\n",
        "                    win = True\n",
        "            if not win:\n",
        "                if j <= self.n_cols - self.n_win:\n",
        "                    if np.all(self.board[i,j:j+self.n_win] == cur_p):\n",
        "                        win = True\n",
        "            if not win:\n",
        "                if i <= self.n_rows - self.n_win and j <= self.n_cols - self.n_win:\n",
        "                    if np.all(np.array([ self.board[i+k,j+k] == cur_p for k in range(self.n_win) ])):\n",
        "                        win = True\n",
        "            if not win:\n",
        "                if i <= self.n_rows - self.n_win and j >= self.n_win-1:\n",
        "                    if np.all(np.array([ self.board[i+k,j-k] == cur_p for k in range(self.n_win) ])):\n",
        "                        win = True\n",
        "            if win:\n",
        "                self.gameOver = True\n",
        "                return self.curTurn\n",
        "\n",
        "        if len(self.getEmptySpaces()) == 0:\n",
        "            self.gameOver = True\n",
        "            return 0\n",
        "\n",
        "        self.gameOver = False\n",
        "        return None\n",
        "\n",
        "    def printBoard(self):\n",
        "        for i in range(0, self.n_rows):\n",
        "            print('----'*(self.n_cols)+'-')\n",
        "            out = '| '\n",
        "            for j in range(0, self.n_cols):\n",
        "                if self.board[i, j] == 1:\n",
        "                    token = 'x'\n",
        "                if self.board[i, j] == -1:\n",
        "                    token = 'o'\n",
        "                if self.board[i, j] == 0:\n",
        "                    token = ' '\n",
        "                out += token + ' | '\n",
        "            print(out)\n",
        "        print('----'*(self.n_cols)+'-')\n",
        "\n",
        "    def getState(self):\n",
        "        return (self.getHash(), self.getEmptySpaces(), self.curTurn)\n",
        "\n",
        "    def action_from_int(self, action_int):\n",
        "        return ( int(action_int / self.n_cols), int(action_int % self.n_cols))\n",
        "\n",
        "    def int_from_action(self, action):\n",
        "        return action[0] * self.n_cols + action[1]\n",
        "    \n",
        "    def step(self, action):\n",
        "        if self.board[action[0], action[1]] != 0:\n",
        "            return self.getState(), -10, True, {}\n",
        "        self.makeMove(self.curTurn, action[0], action[1])\n",
        "        reward = self.isTerminal()\n",
        "        self.curTurn = -self.curTurn\n",
        "        return self.getState(), 0 if reward is None else reward, reward is not None, {}\n",
        "\n",
        "    def reset(self):\n",
        "        self.board = np.zeros((self.n_rows, self.n_cols), dtype=int)\n",
        "        self.boardHash = None\n",
        "        self.gameOver = False\n",
        "        self.emptySpaces = None\n",
        "        self.curTurn = 1"
      ],
      "execution_count": 4,
      "outputs": []
    },
    {
      "cell_type": "code",
      "metadata": {
        "id": "et24YYkC2PQq"
      },
      "source": [
        "def plot_board(env, pi, showtext=True, verbose=True, fontq=20, fontx=60):\n",
        "    '''Рисуем доску с оценками из стратегии pi'''\n",
        "    clear_output(wait=True)\n",
        "    fig, ax = plt.subplots(1, 1, figsize=(8, 8))\n",
        "    X, Y = np.meshgrid(np.arange(0, env.n_rows), np.arange(0, env.n_rows))\n",
        "    Z = np.zeros((env.n_rows, env.n_cols)) + .01\n",
        "    s, actions = env.getHash(), env.getEmptySpaces()\n",
        "    if pi is not None and s in pi.Q:\n",
        "        for i, a in enumerate(actions):\n",
        "            Z[a[0], a[1]] = pi.Q[s][i]\n",
        "    ax.set_xticks([])\n",
        "    ax.set_yticks([])\n",
        "    surf = ax.imshow(Z, cmap=plt.get_cmap('Accent', 10), vmin=-1, vmax=1)\n",
        "    if showtext:\n",
        "        for i,a in enumerate(actions):\n",
        "            if pi is not None and s in pi.Q:\n",
        "                ax.text( a[1] , a[0] , \"%.3f\" % pi.Q[s][i], fontsize=fontq, horizontalalignment='center', verticalalignment='center', color=\"w\" )\n",
        "#             else:\n",
        "#                 ax.text( a[1] , a[0] , \"???\", fontsize=fontq, horizontalalignment='center', verticalalignment='center', color=\"w\" )\n",
        "    for i in range(env.n_rows):\n",
        "        for j in range(env.n_cols):\n",
        "            if env.board[i, j] == -1:\n",
        "                ax.text(j, i, \"O\", fontsize=fontx, horizontalalignment='center', verticalalignment='center', color=\"w\" )\n",
        "            if env.board[i, j] == 1:\n",
        "                ax.text(j, i, \"X\", fontsize=fontx, horizontalalignment='center', verticalalignment='center', color=\"w\" )\n",
        "    cbar = plt.colorbar(surf, ticks=[0, 1])\n",
        "    ax.grid(False)\n",
        "    plt.show()\n",
        "\n",
        "def get_and_print_move(env, pi, s, actions, random=False, verbose=True, fontq=20, fontx=60):\n",
        "    '''Делаем ход, рисуем доску'''\n",
        "    plot_board(env, pi, fontq=fontq, fontx=fontx)\n",
        "    if verbose and (pi is not None):\n",
        "        if s in pi.Q:\n",
        "            for i,a in enumerate(actions):\n",
        "                print(i, a, pi.Q[s][i])\n",
        "        else:\n",
        "            print(\"Стратегия не знает, что делать...\")\n",
        "    if random:\n",
        "        return np.random.randint(len(actions))\n",
        "    else:\n",
        "        return pi.getActionGreedy(s, len(actions))"
      ],
      "execution_count": 5,
      "outputs": []
    },
    {
      "cell_type": "code",
      "metadata": {
        "id": "G-4kcMyc2XJ7"
      },
      "source": [
        "def plot_test_game(env, pi1, pi2, random_crosses=False, random_naughts=True, verbose=True, fontq=20, fontx=60):\n",
        "    '''Играем тестовую партию между стратегиями или со случайными ходами, рисуем ход игры'''\n",
        "    done = False\n",
        "    env.reset()\n",
        "    x_actions = []\n",
        "    o_actions = []\n",
        "    while not done:\n",
        "        s, actions = env.getHash(), env.getEmptySpaces()\n",
        "        if env.curTurn == 1:\n",
        "            a = get_and_print_move(env, pi1, s, actions, random=random_crosses, verbose=verbose, fontq=fontq, fontx=fontx)\n",
        "            x_actions.append((actions[a][0], actions[a][1]))\n",
        "            print(\"X:\", x_actions)\n",
        "            print(\"O:\", o_actions)\n",
        "        else:\n",
        "            a = get_and_print_move(env, pi2, s, actions, random=random_naughts, verbose=verbose, fontq=fontq, fontx=fontx)\n",
        "            o_actions.append((actions[a][0], actions[a][1]))\n",
        "            print(\"X:\", x_actions)\n",
        "            print(\"O:\", o_actions)\n",
        "        observation, reward, done, info = env.step(actions[a])\n",
        "        if reward == 1:\n",
        "            plot_board(env, None, showtext=False, fontq=fontq, fontx=fontx)\n",
        "            print(\"X:\", x_actions)\n",
        "            print(\"O:\", o_actions)\n",
        "            print(\"Крестики выиграли!\")\n",
        "        if reward == -1:\n",
        "            plot_board(env, None, showtext=False, fontq=fontq, fontx=fontx)\n",
        "            print(\"X:\", x_actions)\n",
        "            print(\"O:\", o_actions)\n",
        "            print(\"Нолики выиграли!\")"
      ],
      "execution_count": 6,
      "outputs": []
    },
    {
      "cell_type": "code",
      "metadata": {
        "colab": {
          "base_uri": "https://localhost:8080/",
          "height": 521
        },
        "id": "jhlbTCLk2Zgz",
        "outputId": "afb67c4d-6d3d-431f-824d-b2a528278bf7"
      },
      "source": [
        "env = TicTacToe(n_rows=3, n_cols=3, n_win=3)\n",
        "plot_test_game(env, None, None, random_crosses=True, random_naughts=True, verbose=True, fontx=20)"
      ],
      "execution_count": 7,
      "outputs": [
        {
          "output_type": "display_data",
          "data": {
            "image/png": "[encoded data removed]",
            "text/plain": [
              "<Figure size 576x576 with 2 Axes>"
            ]
          },
          "metadata": {
            "tags": []
          }
        },
        {
          "output_type": "stream",
          "text": [
            "X: [(0, 2), (2, 2), (1, 2)]\n",
            "O: [(2, 0), (2, 1)]\n",
            "Крестики выиграли!\n"
          ],
          "name": "stdout"
        }
      ]
    },
    {
      "cell_type": "markdown",
      "metadata": {
        "id": "NNYboeyV2S6j"
      },
      "source": [
        "Agent и QAgent - классы агентов для обучения. Agent играет случайную стратегию, QAgent - обучается с помощью Q-обучения."
      ]
    },
    {
      "cell_type": "code",
      "metadata": {
        "id": "4gbH61QO76R4"
      },
      "source": [
        "class Agent():\n",
        "    def __init__(self, env, player):\n",
        "      self.n_cols = env.n_cols\n",
        "      self.n_rows = env.n_rows\n",
        "      self.player = player\n",
        "      self.action_size = self.n_cols * self.n_rows\n",
        "      self.state_size = np.power(3, self.action_size)\n",
        "  \n",
        "    def get_state_idx(self, state_hash):\n",
        "        #индекс состояния = сумма троек в соответствующих степенях:\n",
        "        #0 = \"о\", 1 = \"не занято\", 2 = \"х\"\n",
        "        powers_of_3 = np.array([3 ** n for n in range(self.action_size)])\n",
        "        mask = np.array(list(state_hash)).astype(int)\n",
        "        return (powers_of_3 * mask).sum()\n",
        "\n",
        "    def get_action(self, state_hash):\n",
        "        mask = np.array(list(state_hash))\n",
        "        #выбираем только из тех позиций, которые не заняты\n",
        "        action_idx = random.choice(np.argwhere(mask == '1').flatten())\n",
        "        row_idx = action_idx // self.n_rows\n",
        "        col_idx = action_idx - row_idx * self.n_rows\n",
        "        return row_idx, col_idx"
      ],
      "execution_count": 8,
      "outputs": []
    },
    {
      "cell_type": "code",
      "metadata": {
        "id": "8wCvQC_32qXb"
      },
      "source": [
        "class QAgent(Agent):\n",
        "    def __init__(self, env, player, eps=0.2, discount_rate=0.95, learning_rate=0.2):\n",
        "        super().__init__(env, player)\n",
        "        self.eps = eps\n",
        "        self.discount_rate = discount_rate\n",
        "        self.learning_rate = learning_rate\n",
        "        self.build_model()\n",
        "        \n",
        "    def build_model(self):\n",
        "        self.q_table = np.zeros((self.state_size, self.action_size))\n",
        "        self.q_tabele_first_use = np.ones(self.state_size)\n",
        "        \n",
        "    def get_action(self, state_hash):\n",
        "        state = self.get_state_idx(state_hash)\n",
        "        q_state = self.q_table[state]\n",
        "\n",
        "        #заминусуем вознаграждение в тех позициях, которые\n",
        "        #соответствуют занятым клеткам поля, чтобы их никогда не выбрал\n",
        "        #q-алгоритм обучения\n",
        "        if self.q_tabele_first_use[state]:\n",
        "            mask = np.array(list(state_hash))\n",
        "            zero_proba_idx = np.argwhere(mask != '1').flatten()\n",
        "            q_state[zero_proba_idx] = -np.inf\n",
        "            self.q_tabele_first_use[state] = 0\n",
        "\n",
        "        action_greedy_idx = np.argmax(q_state)\n",
        "\n",
        "        action_greedy_row_idx = action_greedy_idx // self.n_rows\n",
        "        action_greedy_col_idx = action_greedy_idx - action_greedy_row_idx * self.n_rows\n",
        "        action_greedy = action_greedy_row_idx, action_greedy_col_idx\n",
        "\n",
        "        action_random = super().get_action(state_hash)\n",
        "        return action_random if random.random() < self.eps else action_greedy\n",
        "    \n",
        "    def train(self, experience):\n",
        "        state_hash, action_idx, next_state_hash, reward, done = experience\n",
        "        reward = reward * self.player\n",
        "        \n",
        "        state = self.get_state_idx(state_hash)\n",
        "        next_state = self.get_state_idx(next_state_hash)\n",
        "        \n",
        "        q_next = self.q_table[next_state]\n",
        "        q_next = np.zeros([self.action_size]) if done else q_next\n",
        "\n",
        "        q_target = reward + self.discount_rate * np.max(q_next)\n",
        "        q_update = q_target - self.q_table[state, action_idx]\n",
        "        \n",
        "        self.q_table[state, action_idx] += self.learning_rate * q_update        \n",
        "        if done:\n",
        "            self.eps = self.eps * 0.99"
      ],
      "execution_count": 9,
      "outputs": []
    },
    {
      "cell_type": "code",
      "metadata": {
        "colab": {
          "base_uri": "https://localhost:8080/"
        },
        "id": "uNpDFkDxaI-6",
        "outputId": "aa6e1b0b-8d35-41df-9558-1398a6f6cac9"
      },
      "source": [
        "agent1 = QAgent(env=env, player= 1, eps=0.2)\n",
        "agent2 = QAgent(env=env, player=-1, eps=1.0)\n",
        "\n",
        "rewards1 = []\n",
        "rewards2 = []\n",
        "\n",
        "N_episodes = 100\n",
        "N_epochs = 200\n",
        "\n",
        "for epoch in range(N_epochs):\n",
        "  rewards1_epoch = []\n",
        "  rewards2_epoch = []  \n",
        "  for ep in range(N_episodes):  \n",
        "      total_reward1 = 0\n",
        "      total_reward2 = 0  \n",
        "      env.reset()\n",
        "      state_hash = env.getHash()\n",
        "      done = False\n",
        "      turn = 1\n",
        "      x_actions = []\n",
        "      o_actions = []\n",
        "      while not done:\n",
        "          if turn == 1:\n",
        "              action = agent1.get_action(state_hash)\n",
        "              next_state, reward, done, info = env.step(action)\n",
        "              next_state_hash = next_state[0]\n",
        "              action_idx = action[0] * agent1.n_rows + action[1]\n",
        "              agent1.train((state_hash, action_idx, next_state_hash, reward, done))\n",
        "              total_reward1 += reward\n",
        "              state_hash = next_state_hash\n",
        "              #print(\"X at\", turn, \"a:\", action)\n",
        "              x_actions.append((action[0], action[1]))\n",
        "              turn = -1\n",
        "          else:\n",
        "              action = agent2.get_action(state_hash)\n",
        "              next_state, reward, done, info = env.step(action)\n",
        "              next_state_hash = next_state[0]\n",
        "              action_idx = action[0] * agent2.n_rows + action[1]\n",
        "              #agent2.train((state_hash, action_idx, next_state_hash, reward, done))\n",
        "              total_reward2 += reward\n",
        "              state_hash = next_state_hash\n",
        "              #print(\"O at\", turn, \"a:\", action)\n",
        "              o_actions.append((action[0], action[1]))\n",
        "              turn = 1\n",
        "          \n",
        "          if epoch:\n",
        "              print(\"Epoch: {}, episode: {}, total reward \\'x\\': {}, total reward \\'o\\': {}\".format(epoch, ep, rewards1[-1], rewards2[-1]))\n",
        "          else:\n",
        "              print(\"Epoch: {}, episode: {}, total reward \\'x\\': {}, total reward \\'o\\': {}\".format(epoch, ep, \"--\", \"--\"))\n",
        "          print(\"X:\", x_actions)\n",
        "          print(\"O:\", o_actions)\n",
        "          env.printBoard()\n",
        "          time.sleep(0.01)\n",
        "          clear_output(wait=True)\n",
        "      rewards1_epoch.append(total_reward1)\n",
        "      rewards2_epoch.append(total_reward2)\n",
        "\n",
        "  #считаем среднее по батчу из 10 эпизодов\n",
        "  rewards1.append(np.array(rewards1_epoch).mean())\n",
        "  rewards2.append(np.array(rewards2_epoch).mean()) "
      ],
      "execution_count": 310,
      "outputs": [
        {
          "output_type": "stream",
          "text": [
            "Epoch: 199, episode: 99, total reward 'x': 0.75, total reward 'o': -0.24\n",
            "X: [(0, 0), (0, 2), (1, 0), (1, 2), (2, 1)]\n",
            "O: [(0, 1), (1, 1), (2, 0), (2, 2)]\n",
            "-------------\n",
            "| x | o | x | \n",
            "-------------\n",
            "| x | o | x | \n",
            "-------------\n",
            "| o | x | o | \n",
            "-------------\n"
          ],
          "name": "stdout"
        }
      ]
    },
    {
      "cell_type": "code",
      "metadata": {
        "colab": {
          "base_uri": "https://localhost:8080/",
          "height": 280
        },
        "id": "mmpyYS7v6hEL",
        "outputId": "6d94d0de-a2fb-4d1e-dc6f-18dfa81836de"
      },
      "source": [
        "plt.plot(range(N_epochs), rewards1, label = \"X rewards\")\n",
        "plt.plot(range(N_epochs), rewards2, label = \"O rewards\")\n",
        "plt.xlabel(\"n_iter\")\n",
        "plt.ylabel(\"mean reward\")\n",
        "plt.legend()\n",
        "plt.show()"
      ],
      "execution_count": 311,
      "outputs": [
        {
          "output_type": "display_data",
          "data": {
            "image/png": "[encoded data removed]",
            "text/plain": [
              "<Figure size 432x288 with 1 Axes>"
            ]
          },
          "metadata": {
            "tags": []
          }
        }
      ]
    },
    {
      "cell_type": "markdown",
      "metadata": {
        "id": "PI0p7qVS3roE"
      },
      "source": [
        "Поскольку eps = 0.2, то разумно, что в среднем агент выигывает в 8 из 10 случаев. "
      ]
    },
    {
      "cell_type": "code",
      "metadata": {
        "colab": {
          "base_uri": "https://localhost:8080/"
        },
        "id": "yDHrzfx3-G69",
        "outputId": "500456ca-2362-4008-9c9c-e15698d49ed5"
      },
      "source": [
        "agent1_new = QAgent(env=env, player=1, eps=1.0)\n",
        "agent2_new = QAgent(env=env, player=-1, eps=0.2)\n",
        "\n",
        "rewards1 = []\n",
        "rewards2 = []\n",
        "\n",
        "N_episodes = 100\n",
        "N_epochs = 150\n",
        "\n",
        "for epoch in range(N_epochs):\n",
        "  rewards1_epoch = []\n",
        "  rewards2_epoch = []  \n",
        "  for ep in range(N_episodes):  \n",
        "      total_reward1 = 0\n",
        "      total_reward2 = 0  \n",
        "      env.reset()\n",
        "      state_hash = env.getHash()\n",
        "      done = False\n",
        "      turn = 1\n",
        "      x_actions = []\n",
        "      o_actions = []\n",
        "      while not done:\n",
        "          if turn == 1:\n",
        "              action = agent1_new.get_action(state_hash)\n",
        "              next_state, reward, done, info = env.step(action)\n",
        "              next_state_hash = next_state[0]\n",
        "              action_idx = action[0] * agent1.n_rows + action[1]\n",
        "              #agent1_new.train((state_hash, action_idx, next_state_hash, reward, done))\n",
        "              total_reward1 += reward\n",
        "              state_hash = next_state_hash\n",
        "              #print(\"X at\", turn, \"a:\", action)\n",
        "              x_actions.append((action[0], action[1]))\n",
        "              turn = -1\n",
        "          else:\n",
        "              action = agent2_new.get_action(state_hash)\n",
        "              next_state, reward, done, info = env.step(action)\n",
        "              next_state_hash = next_state[0]\n",
        "              action_idx = action[0] * agent2_new.n_rows + action[1]\n",
        "              agent2_new.train((state_hash, action_idx, next_state_hash, reward, done))\n",
        "              total_reward2 += reward\n",
        "              state_hash = next_state_hash\n",
        "              #print(\"O at\", turn, \"a:\", action)\n",
        "              o_actions.append((action[0], action[1]))\n",
        "              turn = 1\n",
        "          \n",
        "          if epoch:\n",
        "              print(\"Epoch: {}, episode: {}, total reward \\'x\\': {}, total reward \\'o\\': {}\".format(epoch, ep, rewards1[-1], rewards2[-1]))\n",
        "          else:\n",
        "              print(\"Epoch: {}, episode: {}, total reward \\'x\\': {}, total reward \\'o\\': {}\".format(epoch, ep, \"--\", \"--\"))\n",
        "          print(\"X:\", x_actions)\n",
        "          print(\"O:\", o_actions)\n",
        "          env.printBoard()\n",
        "          time.sleep(0.01)\n",
        "          clear_output(wait=True)\n",
        "      rewards1_epoch.append(total_reward1)\n",
        "      rewards2_epoch.append(total_reward2)\n",
        "\n",
        "  rewards1.append(np.array(rewards1_epoch).mean())\n",
        "  rewards2.append(np.array(rewards2_epoch).mean()) "
      ],
      "execution_count": 313,
      "outputs": [
        {
          "output_type": "stream",
          "text": [
            "Epoch: 149, episode: 99, total reward 'x': 0.51, total reward 'o': -0.46\n",
            "X: [(1, 1), (1, 0), (1, 2)]\n",
            "O: [(0, 0), (0, 1)]\n",
            "-------------\n",
            "| o | o |   | \n",
            "-------------\n",
            "| x | x | x | \n",
            "-------------\n",
            "|   |   |   | \n",
            "-------------\n"
          ],
          "name": "stdout"
        }
      ]
    },
    {
      "cell_type": "code",
      "metadata": {
        "colab": {
          "base_uri": "https://localhost:8080/",
          "height": 280
        },
        "id": "E3WrhqJ_Fnhf",
        "outputId": "d9562943-c472-42c9-825b-61d01733a6e9"
      },
      "source": [
        "plt.plot(range(N_epochs), rewards1, label = \"X rewards\")\n",
        "plt.plot(range(N_epochs), rewards2, label = \"O rewards\")\n",
        "plt.xlabel(\"n_iter\")\n",
        "plt.ylabel(\"mean reward\")\n",
        "plt.legend()\n",
        "plt.show()"
      ],
      "execution_count": 314,
      "outputs": [
        {
          "output_type": "display_data",
          "data": {
            "image/png": "[encoded data removed]",
            "text/plain": [
              "<Figure size 432x288 with 1 Axes>"
            ]
          },
          "metadata": {
            "tags": []
          }
        }
      ]
    },
    {
      "cell_type": "code",
      "metadata": {
        "id": "sGUKbd_fDz5Z"
      },
      "source": [
        ""
      ],
      "execution_count": null,
      "outputs": []
    },
    {
      "cell_type": "code",
      "metadata": {
        "id": "OPAqAPl3pxul"
      },
      "source": [
        ""
      ],
      "execution_count": null,
      "outputs": []
    },
    {
      "cell_type": "code",
      "metadata": {
        "id": "9MT9mayJpxx1"
      },
      "source": [
        ""
      ],
      "execution_count": null,
      "outputs": []
    },
    {
      "cell_type": "code",
      "metadata": {
        "id": "ACufaxxTpxzr"
      },
      "source": [
        ""
      ],
      "execution_count": null,
      "outputs": []
    },
    {
      "cell_type": "code",
      "metadata": {
        "id": "sN0wr5jHpx2S"
      },
      "source": [
        "env = TicTacToe(n_rows=4, n_cols=4, n_win=4)"
      ],
      "execution_count": 10,
      "outputs": []
    },
    {
      "cell_type": "code",
      "metadata": {
        "colab": {
          "base_uri": "https://localhost:8080/"
        },
        "id": "gxZcUEYDtlUD",
        "outputId": "7a6f7e99-c496-47ed-f53a-15143b18854a"
      },
      "source": [
        "agent1 = QAgent(env=env, player= 1, eps=0.2)\n",
        "agent2 = QAgent(env=env, player=-1, eps=1.0)\n",
        "\n",
        "rewards1 = []\n",
        "rewards2 = []\n",
        "\n",
        "N_episodes = 100\n",
        "N_epochs = 100\n",
        "\n",
        "for epoch in range(N_epochs):\n",
        "  rewards1_epoch = []\n",
        "  rewards2_epoch = []  \n",
        "  for ep in range(N_episodes):  \n",
        "      total_reward1 = 0\n",
        "      total_reward2 = 0  \n",
        "      env.reset()\n",
        "      state_hash = env.getHash()\n",
        "      done = False\n",
        "      turn = 1\n",
        "      x_actions = []\n",
        "      o_actions = []\n",
        "      while not done:\n",
        "          if turn == 1:\n",
        "              action = agent1.get_action(state_hash)\n",
        "              next_state, reward, done, info = env.step(action)\n",
        "              next_state_hash = next_state[0]\n",
        "              action_idx = action[0] * agent1.n_rows + action[1]\n",
        "              agent1.train((state_hash, action_idx, next_state_hash, reward, done))\n",
        "              total_reward1 += reward\n",
        "              state_hash = next_state_hash\n",
        "              #print(\"X at\", turn, \"a:\", action)\n",
        "              x_actions.append((action[0], action[1]))\n",
        "              turn = -1\n",
        "          else:\n",
        "              action = agent2.get_action(state_hash)\n",
        "              next_state, reward, done, info = env.step(action)\n",
        "              next_state_hash = next_state[0]\n",
        "              action_idx = action[0] * agent2.n_rows + action[1]\n",
        "              #agent2.train((state_hash, action_idx, next_state_hash, reward, done))\n",
        "              total_reward2 += reward\n",
        "              state_hash = next_state_hash\n",
        "              #print(\"O at\", turn, \"a:\", action)\n",
        "              o_actions.append((action[0], action[1]))\n",
        "              turn = 1\n",
        "          \n",
        "          if epoch:\n",
        "              print(\"Epoch: {}, episode: {}, total reward \\'x\\': {}, total reward \\'o\\': {}\".format(epoch, ep, rewards1[-1], rewards2[-1]))\n",
        "          else:\n",
        "              print(\"Epoch: {}, episode: {}, total reward \\'x\\': {}, total reward \\'o\\': {}\".format(epoch, ep, \"--\", \"--\"))\n",
        "          print(\"X:\", x_actions)\n",
        "          print(\"O:\", o_actions)\n",
        "          env.printBoard()\n",
        "          time.sleep(0.01)\n",
        "          clear_output(wait=True)\n",
        "      rewards1_epoch.append(total_reward1)\n",
        "      rewards2_epoch.append(total_reward2)\n",
        "\n",
        "  rewards1.append(np.array(rewards1_epoch).mean())\n",
        "  rewards2.append(np.array(rewards2_epoch).mean()) "
      ],
      "execution_count": null,
      "outputs": [
        {
          "output_type": "stream",
          "text": [
            "Epoch: 72, episode: 6, total reward 'x': 0.64, total reward 'o': -0.27\n",
            "X: [(0, 0)]\n",
            "O: [(1, 2)]\n",
            "-----------------\n",
            "| x |   |   |   | \n",
            "-----------------\n",
            "|   |   | o |   | \n",
            "-----------------\n",
            "|   |   |   |   | \n",
            "-----------------\n",
            "|   |   |   |   | \n",
            "-----------------\n"
          ],
          "name": "stdout"
        }
      ]
    },
    {
      "cell_type": "code",
      "metadata": {
        "id": "rXb2pXh6tpo7"
      },
      "source": [
        "plt.plot(range(N_epochs), rewards1, label = \"X rewards\")\n",
        "plt.plot(range(N_epochs), rewards2, label = \"O rewards\")\n",
        "plt.xlabel(\"n_iter\")\n",
        "plt.ylabel(\"mean reward\")\n",
        "plt.legend()\n",
        "plt.show()"
      ],
      "execution_count": null,
      "outputs": []
    },
    {
      "cell_type": "code",
      "metadata": {
        "id": "C4YhYFsltvYS"
      },
      "source": [
        "agent1_new = QAgent(env=env, player=1, eps=1.0)\n",
        "agent2_new = QAgent(env=env, player=-1, eps=0.2)\n",
        "\n",
        "rewards1 = []\n",
        "rewards2 = []\n",
        "\n",
        "N_episodes = 100\n",
        "N_epochs = 100\n",
        "\n",
        "for epoch in range(N_epochs):\n",
        "  rewards1_epoch = []\n",
        "  rewards2_epoch = []  \n",
        "  for ep in range(N_episodes):  \n",
        "      total_reward1 = 0\n",
        "      total_reward2 = 0  \n",
        "      env.reset()\n",
        "      state_hash = env.getHash()\n",
        "      done = False\n",
        "      turn = 1\n",
        "      x_actions = []\n",
        "      o_actions = []\n",
        "      while not done:\n",
        "          if turn == 1:\n",
        "              action = agent1_new.get_action(state_hash)\n",
        "              next_state, reward, done, info = env.step(action)\n",
        "              next_state_hash = next_state[0]\n",
        "              action_idx = action[0] * agent1.n_rows + action[1]\n",
        "              #agent1_new.train((state_hash, action_idx, next_state_hash, reward, done))\n",
        "              total_reward1 += reward\n",
        "              state_hash = next_state_hash\n",
        "              #print(\"X at\", turn, \"a:\", action)\n",
        "              x_actions.append((action[0], action[1]))\n",
        "              turn = -1\n",
        "          else:\n",
        "              action = agent2_new.get_action(state_hash)\n",
        "              next_state, reward, done, info = env.step(action)\n",
        "              next_state_hash = next_state[0]\n",
        "              action_idx = action[0] * agent2_new.n_rows + action[1]\n",
        "              agent2_new.train((state_hash, action_idx, next_state_hash, reward, done))\n",
        "              total_reward2 += reward\n",
        "              state_hash = next_state_hash\n",
        "              #print(\"O at\", turn, \"a:\", action)\n",
        "              o_actions.append((action[0], action[1]))\n",
        "              turn = 1\n",
        "          \n",
        "          if epoch:\n",
        "              print(\"Epoch: {}, episode: {}, total reward \\'x\\': {}, total reward \\'o\\': {}\".format(epoch, ep, rewards1[-1], rewards2[-1]))\n",
        "          else:\n",
        "              print(\"Epoch: {}, episode: {}, total reward \\'x\\': {}, total reward \\'o\\': {}\".format(epoch, ep, \"--\", \"--\"))\n",
        "          print(\"X:\", x_actions)\n",
        "          print(\"O:\", o_actions)\n",
        "          env.printBoard()\n",
        "          time.sleep(0.01)\n",
        "          clear_output(wait=True)\n",
        "      rewards1_epoch.append(total_reward1)\n",
        "      rewards2_epoch.append(total_reward2)\n",
        "\n",
        "  rewards1.append(np.array(rewards1_epoch).mean())\n",
        "  rewards2.append(np.array(rewards2_epoch).mean()) "
      ],
      "execution_count": null,
      "outputs": []
    },
    {
      "cell_type": "code",
      "metadata": {
        "id": "VEZ7G4d9t39v"
      },
      "source": [
        "plt.plot(range(N_epochs), rewards1, label = \"X rewards\")\n",
        "plt.plot(range(N_epochs), rewards2, label = \"O rewards\")\n",
        "plt.xlabel(\"n_iter\")\n",
        "plt.ylabel(\"mean reward\")\n",
        "plt.legend()\n",
        "plt.show()"
      ],
      "execution_count": null,
      "outputs": []
    },
    {
      "cell_type": "code",
      "metadata": {
        "id": "RwU7vSlit6nW"
      },
      "source": [
        ""
      ],
      "execution_count": null,
      "outputs": []
    },
    {
      "cell_type": "code",
      "metadata": {
        "id": "L-vvlZx1v2Ud"
      },
      "source": [
        ""
      ],
      "execution_count": null,
      "outputs": []
    },
    {
      "cell_type": "code",
      "metadata": {
        "id": "VChzYDEhv2XS"
      },
      "source": [
        ""
      ],
      "execution_count": null,
      "outputs": []
    },
    {
      "cell_type": "code",
      "metadata": {
        "id": "vv93sNRKv2ax"
      },
      "source": [
        "class ReplayMemory():\n",
        "    def __init__(self, capacity):\n",
        "        self.capacity = capacity\n",
        "        self.memory = []\n",
        "        self.position = 0\n",
        "\n",
        "    def store(self, exptuple):\n",
        "        if len(self.memory) < self.capacity:\n",
        "            self.memory.append(None)\n",
        "        self.memory[self.position] = exptuple\n",
        "        self.position = (self.position + 1) % self.capacity\n",
        "       \n",
        "    def sample(self, batch_size):\n",
        "        return random.sample(self.memory, batch_size)\n",
        "    \n",
        "    def __len__(self):\n",
        "        return len(self.memory)"
      ],
      "execution_count": null,
      "outputs": []
    },
    {
      "cell_type": "code",
      "metadata": {
        "id": "IQm6xvhZxfq3"
      },
      "source": [
        "class Network(nn.Module):\n",
        "    def __init__(self, layer_size=256):\n",
        "        nn.Module.__init__(self)\n",
        "        self.l1 = nn.Linear(4, layer_size)\n",
        "        self.l2 = nn.Linear(layer_size, 2)\n",
        "\n",
        "    def forward(self, x):\n",
        "        x = F.relu(self.l1(x))\n",
        "        x = self.l2(x)\n",
        "        return x"
      ],
      "execution_count": null,
      "outputs": []
    },
    {
      "cell_type": "code",
      "metadata": {
        "id": "jvLfEi2hxiNq"
      },
      "source": [
        "class TicTacToeDQN():\n",
        "    def __init__(self, n_rows=N_ROWS, n_cols=N_COLS, n_win=N_WIN):\n",
        "        self.env = TicTacToe(n_rows=N_ROWS, n_cols=N_COLS, n_win=N_WIN)\n",
        "        self.model = Network()\n",
        "        self.memory = ReplayMemory(10000)\n",
        "        self.optimizer = optim.Adam(self.model.parameters(), 0.001)\n",
        "        self.steps_done = 0\n",
        "        self.episode_durations = []\n",
        "        \n",
        "        self.gamma = 0.8\n",
        "        self.batch_size = 64\n",
        "        \n",
        "        self.eps_init, self.eps_final, self.eps_decay = 0.9, 0.05, 200\n",
        "        self.num_step = 0\n",
        "\n",
        "    def select_greedy_action(self, state):\n",
        "        return self.model(state).data.max(1)[1].view(1, 1)\n",
        "\n",
        "    def select_action(self, state):\n",
        "        sample = random.random()\n",
        "        self.num_step += 1\n",
        "        eps_threshold = self.eps_final + (self.eps_init - self.eps_final) * math.exp(-1. * self.num_step / self.eps_decay)\n",
        "        if sample > eps_threshold:\n",
        "            return self.select_greedy_action(state)\n",
        "        else:\n",
        "            return torch.tensor([[random.randrange(2)]], dtype=torch.int64)\n",
        "        \n",
        "    def run_episode(self, e=0, do_learning=True, greedy=False, render=False):\n",
        "        state, num_step = self.env.reset(), 0\n",
        "        while True:\n",
        "            if render:\n",
        "                self.env.render()\n",
        "\n",
        "            state_tensor = torch.tensor([state], dtype=torch.float32)\n",
        "            with torch.no_grad():\n",
        "                if greedy:\n",
        "                    action = self.select_greedy_action(state_tensor)\n",
        "                else:\n",
        "                    action = self.select_action(state_tensor)\n",
        "            next_state, reward, done, _ = self.env.step(action.numpy()[0][0])\n",
        "            next_state_tensor = torch.tensor([next_state], dtype=torch.float32)\n",
        "\n",
        "            if done:\n",
        "                reward = -1\n",
        "\n",
        "            transition = (state_tensor, action, next_state_tensor, torch.tensor([reward], dtype=torch.float32))\n",
        "            self.memory.store(transition)\n",
        "\n",
        "            if do_learning:\n",
        "                self.learn()\n",
        "\n",
        "            state = next_state\n",
        "            num_step += 1\n",
        "\n",
        "            if done:\n",
        "                print(\"\\tepisode %d finished after %d steps\" % (e, num_step))\n",
        "                self.episode_durations.append(num_step)\n",
        "                break\n",
        "\n",
        "    def learn(self):\n",
        "        if len(self.memory) < self.batch_size:\n",
        "            return\n",
        "\n",
        "        # берём мини-батч из памяти\n",
        "        transitions = self.memory.sample(self.batch_size)\n",
        "        batch_state, batch_action, batch_next_state, batch_reward = zip(*transitions)\n",
        "\n",
        "        batch_state = Variable(torch.cat(batch_state))\n",
        "        batch_action = Variable(torch.cat(batch_action))\n",
        "        batch_reward = Variable(torch.cat(batch_reward))\n",
        "        batch_next_state = Variable(torch.cat(batch_next_state))\n",
        "\n",
        "        # считаем значения функции Q\n",
        "        Q = self.model(batch_state).gather(1, batch_action).reshape([self.batch_size])\n",
        "\n",
        "        # оцениваем ожидаемые значения после этого действия\n",
        "        Qmax = self.model(batch_next_state).detach().max(1)[0]\n",
        "        Qnext = batch_reward + (self.gamma * Qmax)\n",
        "\n",
        "        # и хотим, чтобы Q было похоже на Qnext -- это и есть суть Q-обучения\n",
        "        loss = F.smooth_l1_loss(Q, Qnext)\n",
        "\n",
        "        self.optimizer.zero_grad()\n",
        "        loss.backward()\n",
        "        self.optimizer.step()"
      ],
      "execution_count": null,
      "outputs": []
    }
  ]
}